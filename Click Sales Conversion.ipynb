{
 "cells": [
  {
   "cell_type": "code",
   "execution_count": 24,
   "id": "8d861e9f",
   "metadata": {},
   "outputs": [],
   "source": [
    "import numpy as np\n",
    "import pandas as pd\n",
    "import matplotlib.pyplot as plt\n",
    "import seaborn as sns"
   ]
  },
  {
   "cell_type": "code",
   "execution_count": null,
   "id": "2d20494b",
   "metadata": {},
   "outputs": [],
   "source": []
  },
  {
   "cell_type": "code",
   "execution_count": 25,
   "id": "e6b32a93",
   "metadata": {},
   "outputs": [],
   "source": [
    "df = pd.read_csv(\"KAG_conversion_data.csv\")"
   ]
  },
  {
   "cell_type": "code",
   "execution_count": 26,
   "id": "e637613f",
   "metadata": {},
   "outputs": [
    {
     "data": {
      "text/html": [
       "<div>\n",
       "<style scoped>\n",
       "    .dataframe tbody tr th:only-of-type {\n",
       "        vertical-align: middle;\n",
       "    }\n",
       "\n",
       "    .dataframe tbody tr th {\n",
       "        vertical-align: top;\n",
       "    }\n",
       "\n",
       "    .dataframe thead th {\n",
       "        text-align: right;\n",
       "    }\n",
       "</style>\n",
       "<table border=\"1\" class=\"dataframe\">\n",
       "  <thead>\n",
       "    <tr style=\"text-align: right;\">\n",
       "      <th></th>\n",
       "      <th>ad_id</th>\n",
       "      <th>xyz_campaign_id</th>\n",
       "      <th>fb_campaign_id</th>\n",
       "      <th>age</th>\n",
       "      <th>gender</th>\n",
       "      <th>interest</th>\n",
       "      <th>Impressions</th>\n",
       "      <th>Clicks</th>\n",
       "      <th>Spent</th>\n",
       "      <th>Total_Conversion</th>\n",
       "      <th>Approved_Conversion</th>\n",
       "    </tr>\n",
       "  </thead>\n",
       "  <tbody>\n",
       "    <tr>\n",
       "      <th>0</th>\n",
       "      <td>708746</td>\n",
       "      <td>916</td>\n",
       "      <td>103916</td>\n",
       "      <td>30-34</td>\n",
       "      <td>M</td>\n",
       "      <td>15</td>\n",
       "      <td>7350</td>\n",
       "      <td>1</td>\n",
       "      <td>1.43</td>\n",
       "      <td>2</td>\n",
       "      <td>1</td>\n",
       "    </tr>\n",
       "    <tr>\n",
       "      <th>1</th>\n",
       "      <td>708749</td>\n",
       "      <td>916</td>\n",
       "      <td>103917</td>\n",
       "      <td>30-34</td>\n",
       "      <td>M</td>\n",
       "      <td>16</td>\n",
       "      <td>17861</td>\n",
       "      <td>2</td>\n",
       "      <td>1.82</td>\n",
       "      <td>2</td>\n",
       "      <td>0</td>\n",
       "    </tr>\n",
       "    <tr>\n",
       "      <th>2</th>\n",
       "      <td>708771</td>\n",
       "      <td>916</td>\n",
       "      <td>103920</td>\n",
       "      <td>30-34</td>\n",
       "      <td>M</td>\n",
       "      <td>20</td>\n",
       "      <td>693</td>\n",
       "      <td>0</td>\n",
       "      <td>0.00</td>\n",
       "      <td>1</td>\n",
       "      <td>0</td>\n",
       "    </tr>\n",
       "    <tr>\n",
       "      <th>3</th>\n",
       "      <td>708815</td>\n",
       "      <td>916</td>\n",
       "      <td>103928</td>\n",
       "      <td>30-34</td>\n",
       "      <td>M</td>\n",
       "      <td>28</td>\n",
       "      <td>4259</td>\n",
       "      <td>1</td>\n",
       "      <td>1.25</td>\n",
       "      <td>1</td>\n",
       "      <td>0</td>\n",
       "    </tr>\n",
       "    <tr>\n",
       "      <th>4</th>\n",
       "      <td>708818</td>\n",
       "      <td>916</td>\n",
       "      <td>103928</td>\n",
       "      <td>30-34</td>\n",
       "      <td>M</td>\n",
       "      <td>28</td>\n",
       "      <td>4133</td>\n",
       "      <td>1</td>\n",
       "      <td>1.29</td>\n",
       "      <td>1</td>\n",
       "      <td>1</td>\n",
       "    </tr>\n",
       "  </tbody>\n",
       "</table>\n",
       "</div>"
      ],
      "text/plain": [
       "    ad_id  xyz_campaign_id  fb_campaign_id    age gender  interest  \\\n",
       "0  708746              916          103916  30-34      M        15   \n",
       "1  708749              916          103917  30-34      M        16   \n",
       "2  708771              916          103920  30-34      M        20   \n",
       "3  708815              916          103928  30-34      M        28   \n",
       "4  708818              916          103928  30-34      M        28   \n",
       "\n",
       "   Impressions  Clicks  Spent  Total_Conversion  Approved_Conversion  \n",
       "0         7350       1   1.43                 2                    1  \n",
       "1        17861       2   1.82                 2                    0  \n",
       "2          693       0   0.00                 1                    0  \n",
       "3         4259       1   1.25                 1                    0  \n",
       "4         4133       1   1.29                 1                    1  "
      ]
     },
     "execution_count": 26,
     "metadata": {},
     "output_type": "execute_result"
    }
   ],
   "source": [
    "df.head()"
   ]
  },
  {
   "cell_type": "markdown",
   "id": "62e1586b",
   "metadata": {},
   "source": [
    "The data used in this project is from an anonymous organisation’s social media ad campaign. The data file can be downloaded from here. The file conversion_data.csv contains 1143 observations in 11 variables. Below are the descriptions of the variables.\n",
    "\n",
    "1.) ad_id: an unique ID for each ad.\n",
    "\n",
    "2.) xyzcampaignid: an ID associated with each ad campaign of XYZ company.\n",
    "\n",
    "3.) fbcampaignid: an ID associated with how Facebook tracks each campaign.\n",
    "\n",
    "4.) age: age of the person to whom the ad is shown.\n",
    "\n",
    "5.) gender: gender of the person to whom the add is shown\n",
    "\n",
    "6.) interest: a code specifying the category to which the person’s interest belongs (interests are as mentioned in the person’s Facebook public profile).\n",
    "\n",
    "7.) Impressions: the number of times the ad was shown.\n",
    "\n",
    "8.) Clicks: number of clicks on for that ad.\n",
    "\n",
    "9.) Spent: Amount paid by company xyz to Facebook, to show that ad.\n",
    "\n",
    "10.) Total conversion: Total number of people who enquired about the product after seeing the ad.\n",
    "\n",
    "11.) Approved conversion: Total number of people who bought the product after seeing the ad."
   ]
  },
  {
   "cell_type": "markdown",
   "id": "574a7d0b",
   "metadata": {},
   "source": [
    "We have two features that are variables and would be more convenient to encode them into numerical features"
   ]
  },
  {
   "cell_type": "code",
   "execution_count": 27,
   "id": "8cfbc7b8",
   "metadata": {
    "scrolled": true
   },
   "outputs": [],
   "source": [
    "df.rename(columns = {\"Total_Conversion\":\"Conversions\"}, inplace = True)"
   ]
  },
  {
   "cell_type": "code",
   "execution_count": 28,
   "id": "427de9d9",
   "metadata": {},
   "outputs": [],
   "source": [
    "def age_avg(age_range):\n",
    "    \n",
    "    #we split the ages into the list and then take their avgs\n",
    "    \n",
    "    age_list = age_range.split('-')\n",
    "    \n",
    "    age_mean = (int(age_list[0]) + int(age_list[1]))/2\n",
    "    \n",
    "    return age_mean"
   ]
  },
  {
   "cell_type": "code",
   "execution_count": 29,
   "id": "d942158e",
   "metadata": {},
   "outputs": [],
   "source": [
    "df[\"age\"] = df[\"age\"].apply(age_avg)"
   ]
  },
  {
   "cell_type": "markdown",
   "id": "526b0501",
   "metadata": {},
   "source": [
    "Let us check the age function results"
   ]
  },
  {
   "cell_type": "code",
   "execution_count": 30,
   "id": "e4afed5a",
   "metadata": {},
   "outputs": [
    {
     "data": {
      "text/plain": [
       "array([32., 37., 42., 47.])"
      ]
     },
     "execution_count": 30,
     "metadata": {},
     "output_type": "execute_result"
    }
   ],
   "source": [
    "df['age'].unique()"
   ]
  },
  {
   "cell_type": "markdown",
   "id": "cabe8d6b",
   "metadata": {},
   "source": [
    "Let us encode the genders:"
   ]
  },
  {
   "cell_type": "code",
   "execution_count": 31,
   "id": "becfd0f9",
   "metadata": {},
   "outputs": [],
   "source": [
    "def gender_encode(gender):\n",
    "    # Male is 0 and Female is 1\n",
    "    if gender == 'M':\n",
    "        gender_num = 0\n",
    "    else:\n",
    "        gender_num = 1\n",
    "        \n",
    "    return gender_num"
   ]
  },
  {
   "cell_type": "code",
   "execution_count": 32,
   "id": "9fa23a91",
   "metadata": {},
   "outputs": [],
   "source": [
    "df[\"gender\"] = df[\"gender\"].apply(gender_encode)"
   ]
  },
  {
   "cell_type": "code",
   "execution_count": 33,
   "id": "dd36c73a",
   "metadata": {},
   "outputs": [
    {
     "data": {
      "text/html": [
       "<div>\n",
       "<style scoped>\n",
       "    .dataframe tbody tr th:only-of-type {\n",
       "        vertical-align: middle;\n",
       "    }\n",
       "\n",
       "    .dataframe tbody tr th {\n",
       "        vertical-align: top;\n",
       "    }\n",
       "\n",
       "    .dataframe thead th {\n",
       "        text-align: right;\n",
       "    }\n",
       "</style>\n",
       "<table border=\"1\" class=\"dataframe\">\n",
       "  <thead>\n",
       "    <tr style=\"text-align: right;\">\n",
       "      <th></th>\n",
       "      <th>ad_id</th>\n",
       "      <th>xyz_campaign_id</th>\n",
       "      <th>fb_campaign_id</th>\n",
       "      <th>age</th>\n",
       "      <th>gender</th>\n",
       "      <th>interest</th>\n",
       "      <th>Impressions</th>\n",
       "      <th>Clicks</th>\n",
       "      <th>Spent</th>\n",
       "      <th>Conversions</th>\n",
       "      <th>Approved_Conversion</th>\n",
       "    </tr>\n",
       "  </thead>\n",
       "  <tbody>\n",
       "    <tr>\n",
       "      <th>0</th>\n",
       "      <td>708746</td>\n",
       "      <td>916</td>\n",
       "      <td>103916</td>\n",
       "      <td>32.0</td>\n",
       "      <td>0</td>\n",
       "      <td>15</td>\n",
       "      <td>7350</td>\n",
       "      <td>1</td>\n",
       "      <td>1.43</td>\n",
       "      <td>2</td>\n",
       "      <td>1</td>\n",
       "    </tr>\n",
       "    <tr>\n",
       "      <th>1</th>\n",
       "      <td>708749</td>\n",
       "      <td>916</td>\n",
       "      <td>103917</td>\n",
       "      <td>32.0</td>\n",
       "      <td>0</td>\n",
       "      <td>16</td>\n",
       "      <td>17861</td>\n",
       "      <td>2</td>\n",
       "      <td>1.82</td>\n",
       "      <td>2</td>\n",
       "      <td>0</td>\n",
       "    </tr>\n",
       "    <tr>\n",
       "      <th>2</th>\n",
       "      <td>708771</td>\n",
       "      <td>916</td>\n",
       "      <td>103920</td>\n",
       "      <td>32.0</td>\n",
       "      <td>0</td>\n",
       "      <td>20</td>\n",
       "      <td>693</td>\n",
       "      <td>0</td>\n",
       "      <td>0.00</td>\n",
       "      <td>1</td>\n",
       "      <td>0</td>\n",
       "    </tr>\n",
       "    <tr>\n",
       "      <th>3</th>\n",
       "      <td>708815</td>\n",
       "      <td>916</td>\n",
       "      <td>103928</td>\n",
       "      <td>32.0</td>\n",
       "      <td>0</td>\n",
       "      <td>28</td>\n",
       "      <td>4259</td>\n",
       "      <td>1</td>\n",
       "      <td>1.25</td>\n",
       "      <td>1</td>\n",
       "      <td>0</td>\n",
       "    </tr>\n",
       "    <tr>\n",
       "      <th>4</th>\n",
       "      <td>708818</td>\n",
       "      <td>916</td>\n",
       "      <td>103928</td>\n",
       "      <td>32.0</td>\n",
       "      <td>0</td>\n",
       "      <td>28</td>\n",
       "      <td>4133</td>\n",
       "      <td>1</td>\n",
       "      <td>1.29</td>\n",
       "      <td>1</td>\n",
       "      <td>1</td>\n",
       "    </tr>\n",
       "  </tbody>\n",
       "</table>\n",
       "</div>"
      ],
      "text/plain": [
       "    ad_id  xyz_campaign_id  fb_campaign_id   age  gender  interest  \\\n",
       "0  708746              916          103916  32.0       0        15   \n",
       "1  708749              916          103917  32.0       0        16   \n",
       "2  708771              916          103920  32.0       0        20   \n",
       "3  708815              916          103928  32.0       0        28   \n",
       "4  708818              916          103928  32.0       0        28   \n",
       "\n",
       "   Impressions  Clicks  Spent  Conversions  Approved_Conversion  \n",
       "0         7350       1   1.43            2                    1  \n",
       "1        17861       2   1.82            2                    0  \n",
       "2          693       0   0.00            1                    0  \n",
       "3         4259       1   1.25            1                    0  \n",
       "4         4133       1   1.29            1                    1  "
      ]
     },
     "execution_count": 33,
     "metadata": {},
     "output_type": "execute_result"
    }
   ],
   "source": [
    "df.head()"
   ]
  },
  {
   "cell_type": "markdown",
   "id": "5e594cbe",
   "metadata": {},
   "source": [
    "No Null values"
   ]
  },
  {
   "cell_type": "code",
   "execution_count": 34,
   "id": "f2352271",
   "metadata": {},
   "outputs": [
    {
     "data": {
      "text/plain": [
       "ad_id                  0\n",
       "xyz_campaign_id        0\n",
       "fb_campaign_id         0\n",
       "age                    0\n",
       "gender                 0\n",
       "interest               0\n",
       "Impressions            0\n",
       "Clicks                 0\n",
       "Spent                  0\n",
       "Conversions            0\n",
       "Approved_Conversion    0\n",
       "dtype: int64"
      ]
     },
     "execution_count": 34,
     "metadata": {},
     "output_type": "execute_result"
    }
   ],
   "source": [
    "df.isna().sum()"
   ]
  },
  {
   "cell_type": "code",
   "execution_count": null,
   "id": "fd7db24d",
   "metadata": {},
   "outputs": [],
   "source": []
  },
  {
   "cell_type": "code",
   "execution_count": 35,
   "id": "bcb0c50a",
   "metadata": {},
   "outputs": [
    {
     "data": {
      "text/plain": [
       "<AxesSubplot:>"
      ]
     },
     "execution_count": 35,
     "metadata": {},
     "output_type": "execute_result"
    },
    {
     "data": {
      "image/png": "[encoded data removed]",
      "text/plain": [
       "<Figure size 864x648 with 2 Axes>"
      ]
     },
     "metadata": {
      "needs_background": "light"
     },
     "output_type": "display_data"
    }
   ],
   "source": [
    "corrmat = df.corr()\n",
    "plt.subplots(figsize=(12,9))\n",
    "sns.heatmap(corrmat, vmax=0.9, square=True)"
   ]
  },
  {
   "cell_type": "markdown",
   "id": "293498ce",
   "metadata": {},
   "source": [
    "From the above heatmap we can observe that the amount of money spent is strongly correlated with the impressions  and clicks.\n",
    "\n",
    "Approved conversions and Total conversion are correlated together, which is expected.\n",
    "\n",
    "Impressions and Total conversions and approved conversions are correlated which is a good sign for the advertising campaigns. Customers tend to purchase products from brands that they are familiar or have been exposed to, hence the impressions implant such exposure and increases the chances of customers choosing the brand over the unfamiliar ones."
   ]
  },
  {
   "cell_type": "markdown",
   "id": "16e0e43c",
   "metadata": {},
   "source": [
    "Although the heat map shows that the more we spend the more clicks and conversions we get, a hard conclusion cannot be reached from such correlations.\n",
    "\n",
    "It is better we focus on a single campaign and dwelve deeper.\n",
    "Let us choose the campaign that had the most money spent on it."
   ]
  },
  {
   "cell_type": "markdown",
   "id": "19f3522c",
   "metadata": {},
   "source": [
    "## Feature Engineering"
   ]
  },
  {
   "cell_type": "markdown",
   "id": "a37ad17d",
   "metadata": {},
   "source": [
    "So now we know for any Male and Female advertisement the Approved Conversion, appConv is worth C\\\\$129 and C$156 respectively. \n",
    "\n",
    "As we do not know the cost of an enquiry (Total Conversion, conv), we wil assume C$5."
   ]
  },
  {
   "cell_type": "markdown",
   "id": "49250f85",
   "metadata": {},
   "source": [
    "We shall introduce some key metrics used in digial advertising:"
   ]
  },
  {
   "cell_type": "markdown",
   "id": "9e652740",
   "metadata": {},
   "source": [
    "**Click through rate (CTR):** \n",
    "Click through rate is a good metric to gauge how well our keywords and ads are performing. It is the percentage of impressions that are actually clicked.\n",
    "\n",
    "A high CTR indicates that the ads are helpful and relevant to the target audience."
   ]
  },
  {
   "cell_type": "markdown",
   "id": "d9722a1a",
   "metadata": {},
   "source": [
    "**Conversion rate (CR)**:\n",
    "The conversion rate is the percentage of clicks that ultimately result in a conversion. The conversion depends on the ad campaign as it needs to be pre-defined, for some companies viewing a video on the website or generating an online quote could be considered a conversion."
   ]
  },
  {
   "cell_type": "markdown",
   "id": "b8dd13e0",
   "metadata": {},
   "source": [
    "**Cost per Click (CPC):**\n",
    "This is basically the cost of each click."
   ]
  },
  {
   "cell_type": "markdown",
   "id": "e1c1eb4f",
   "metadata": {},
   "source": [
    "**Cost per Conversion**: This is the cost for a single conversion."
   ]
  },
  {
   "cell_type": "markdown",
   "id": "8378dc4b",
   "metadata": {},
   "source": [
    "**Return on Advertising Spend(ROAS):**\n",
    "This is a very important metric as it is the generated revenue from a product campaign as a percentage of the advertising expenditure.\n",
    "How relevant the ROAS is also depends on the type of company, some companies may not be too concerned about the revenue generated from these ad campaigns but instead wants to maximise the impressions upon their targetted audience. E.g. Luxury brands would want leave a bigger impression to maintain their status quo.    "
   ]
  },
  {
   "cell_type": "markdown",
   "id": "8e1810a5",
   "metadata": {},
   "source": [
    "**Cost per Mille (CPM)**: This is the cost of one thousand impressions, this is relevant for companies wanting to create huge impressions but needs to be mindful of their cost of branding."
   ]
  },
  {
   "cell_type": "code",
   "execution_count": 36,
   "id": "7c28ead3",
   "metadata": {},
   "outputs": [],
   "source": [
    "def CTR(clicks,impr):\n",
    "    \n",
    "    ctr  = ((clicks/impr)*100)\n",
    "    \n",
    "    return ctr\n",
    "\n"
   ]
  },
  {
   "cell_type": "markdown",
   "id": "c1a6c047",
   "metadata": {},
   "source": [
    "**Click through rate (CTR):** \n",
    "We shall take the percentage of Clicks per 1000 impressions"
   ]
  },
  {
   "cell_type": "code",
   "execution_count": 37,
   "id": "96bddd8a",
   "metadata": {},
   "outputs": [],
   "source": [
    "df[\"CTR\"] = (df[\"Clicks\"]/df[\"Impressions\"] *1000 * 100)"
   ]
  },
  {
   "cell_type": "code",
   "execution_count": 38,
   "id": "8b795845",
   "metadata": {},
   "outputs": [
    {
     "data": {
      "text/html": [
       "<div>\n",
       "<style scoped>\n",
       "    .dataframe tbody tr th:only-of-type {\n",
       "        vertical-align: middle;\n",
       "    }\n",
       "\n",
       "    .dataframe tbody tr th {\n",
       "        vertical-align: top;\n",
       "    }\n",
       "\n",
       "    .dataframe thead th {\n",
       "        text-align: right;\n",
       "    }\n",
       "</style>\n",
       "<table border=\"1\" class=\"dataframe\">\n",
       "  <thead>\n",
       "    <tr style=\"text-align: right;\">\n",
       "      <th></th>\n",
       "      <th>ad_id</th>\n",
       "      <th>xyz_campaign_id</th>\n",
       "      <th>fb_campaign_id</th>\n",
       "      <th>age</th>\n",
       "      <th>gender</th>\n",
       "      <th>interest</th>\n",
       "      <th>Impressions</th>\n",
       "      <th>Clicks</th>\n",
       "      <th>Spent</th>\n",
       "      <th>Conversions</th>\n",
       "      <th>Approved_Conversion</th>\n",
       "      <th>CTR</th>\n",
       "    </tr>\n",
       "  </thead>\n",
       "  <tbody>\n",
       "    <tr>\n",
       "      <th>1138</th>\n",
       "      <td>1314410</td>\n",
       "      <td>1178</td>\n",
       "      <td>179977</td>\n",
       "      <td>47.0</td>\n",
       "      <td>1</td>\n",
       "      <td>109</td>\n",
       "      <td>1129773</td>\n",
       "      <td>252</td>\n",
       "      <td>358.189997</td>\n",
       "      <td>13</td>\n",
       "      <td>2</td>\n",
       "      <td>22.305366</td>\n",
       "    </tr>\n",
       "    <tr>\n",
       "      <th>1139</th>\n",
       "      <td>1314411</td>\n",
       "      <td>1178</td>\n",
       "      <td>179978</td>\n",
       "      <td>47.0</td>\n",
       "      <td>1</td>\n",
       "      <td>110</td>\n",
       "      <td>637549</td>\n",
       "      <td>120</td>\n",
       "      <td>173.880003</td>\n",
       "      <td>3</td>\n",
       "      <td>0</td>\n",
       "      <td>18.822083</td>\n",
       "    </tr>\n",
       "    <tr>\n",
       "      <th>1140</th>\n",
       "      <td>1314412</td>\n",
       "      <td>1178</td>\n",
       "      <td>179979</td>\n",
       "      <td>47.0</td>\n",
       "      <td>1</td>\n",
       "      <td>111</td>\n",
       "      <td>151531</td>\n",
       "      <td>28</td>\n",
       "      <td>40.289999</td>\n",
       "      <td>2</td>\n",
       "      <td>0</td>\n",
       "      <td>18.478067</td>\n",
       "    </tr>\n",
       "    <tr>\n",
       "      <th>1141</th>\n",
       "      <td>1314414</td>\n",
       "      <td>1178</td>\n",
       "      <td>179981</td>\n",
       "      <td>47.0</td>\n",
       "      <td>1</td>\n",
       "      <td>113</td>\n",
       "      <td>790253</td>\n",
       "      <td>135</td>\n",
       "      <td>198.710001</td>\n",
       "      <td>8</td>\n",
       "      <td>2</td>\n",
       "      <td>17.083137</td>\n",
       "    </tr>\n",
       "    <tr>\n",
       "      <th>1142</th>\n",
       "      <td>1314415</td>\n",
       "      <td>1178</td>\n",
       "      <td>179982</td>\n",
       "      <td>47.0</td>\n",
       "      <td>1</td>\n",
       "      <td>114</td>\n",
       "      <td>513161</td>\n",
       "      <td>114</td>\n",
       "      <td>165.609999</td>\n",
       "      <td>5</td>\n",
       "      <td>2</td>\n",
       "      <td>22.215250</td>\n",
       "    </tr>\n",
       "  </tbody>\n",
       "</table>\n",
       "</div>"
      ],
      "text/plain": [
       "        ad_id  xyz_campaign_id  fb_campaign_id   age  gender  interest  \\\n",
       "1138  1314410             1178          179977  47.0       1       109   \n",
       "1139  1314411             1178          179978  47.0       1       110   \n",
       "1140  1314412             1178          179979  47.0       1       111   \n",
       "1141  1314414             1178          179981  47.0       1       113   \n",
       "1142  1314415             1178          179982  47.0       1       114   \n",
       "\n",
       "      Impressions  Clicks       Spent  Conversions  Approved_Conversion  \\\n",
       "1138      1129773     252  358.189997           13                    2   \n",
       "1139       637549     120  173.880003            3                    0   \n",
       "1140       151531      28   40.289999            2                    0   \n",
       "1141       790253     135  198.710001            8                    2   \n",
       "1142       513161     114  165.609999            5                    2   \n",
       "\n",
       "            CTR  \n",
       "1138  22.305366  \n",
       "1139  18.822083  \n",
       "1140  18.478067  \n",
       "1141  17.083137  \n",
       "1142  22.215250  "
      ]
     },
     "execution_count": 38,
     "metadata": {},
     "output_type": "execute_result"
    }
   ],
   "source": [
    "df.tail()"
   ]
  },
  {
   "cell_type": "markdown",
   "id": "9c358eea",
   "metadata": {},
   "source": [
    "**Conversion rate (CR)**:\n"
   ]
  },
  {
   "cell_type": "code",
   "execution_count": 39,
   "id": "4f8ffeee",
   "metadata": {},
   "outputs": [],
   "source": [
    "df[\"CR\"] = (df[\"Conversions\"]/df[\"Clicks\"] * 100)"
   ]
  },
  {
   "cell_type": "markdown",
   "id": "27f71e7f",
   "metadata": {},
   "source": [
    "**Cost per Click (CPC):**\n",
    "\n",
    "We will divide the amount of money spent divided by the clicks to get the CPC."
   ]
  },
  {
   "cell_type": "code",
   "execution_count": 40,
   "id": "e9beee8c",
   "metadata": {},
   "outputs": [],
   "source": [
    "df[\"CPC\"] = (df[\"Spent\"]/df[\"Clicks\"] )"
   ]
  },
  {
   "cell_type": "code",
   "execution_count": 41,
   "id": "b6bcd0b3",
   "metadata": {},
   "outputs": [],
   "source": [
    "#let us check the correlations with our new variables"
   ]
  },
  {
   "cell_type": "code",
   "execution_count": 42,
   "id": "15909574",
   "metadata": {},
   "outputs": [
    {
     "data": {
      "text/plain": [
       "<AxesSubplot:>"
      ]
     },
     "execution_count": 42,
     "metadata": {},
     "output_type": "execute_result"
    },
    {
     "data": {
      "image/png": "[encoded data removed]",
      "text/plain": [
       "<Figure size 864x648 with 2 Axes>"
      ]
     },
     "metadata": {
      "needs_background": "light"
     },
     "output_type": "display_data"
    }
   ],
   "source": [
    "corrmat = df.corr()\n",
    "plt.subplots(figsize=(12,9))\n",
    "sns.heatmap(corrmat, vmax=0.9, square=True)"
   ]
  },
  {
   "cell_type": "markdown",
   "id": "5699b986",
   "metadata": {},
   "source": [
    "We get a strong correlation between Spent and Clicks and Impressions, which states the obvious that the more money spent on the campaign will generate more impressions hence probability of click subsequently increases.\n",
    "\n",
    "We also notice a very slight correlation between age and click through rate, but the correlation may not be significant. "
   ]
  },
  {
   "cell_type": "code",
   "execution_count": 43,
   "id": "e2912993",
   "metadata": {},
   "outputs": [
    {
     "name": "stdout",
     "output_type": "stream",
     "text": [
      "stat = 0.3512478445133366\n",
      "p value is  1.585689574054174e-34\n"
     ]
    }
   ],
   "source": [
    "#Pearson's Correlation test\n",
    "\n",
    "from scipy.stats import pearsonr\n",
    "\n",
    "stat, p = pearsonr(df[\"CTR\"],df[\"age\"])\n",
    "\n",
    "print(\"stat =\", stat)\n",
    "print(\"p value is \", p)"
   ]
  },
  {
   "cell_type": "code",
   "execution_count": null,
   "id": "1024c41c",
   "metadata": {},
   "outputs": [],
   "source": []
  },
  {
   "cell_type": "code",
   "execution_count": 44,
   "id": "4a3e8b01",
   "metadata": {},
   "outputs": [
    {
     "data": {
      "text/plain": [
       "array([ 916,  936, 1178], dtype=int64)"
      ]
     },
     "execution_count": 44,
     "metadata": {},
     "output_type": "execute_result"
    }
   ],
   "source": [
    "df[\"xyz_campaign_id\"].unique()"
   ]
  },
  {
   "cell_type": "code",
   "execution_count": 45,
   "id": "f8021028",
   "metadata": {},
   "outputs": [
    {
     "data": {
      "text/html": [
       "<div>\n",
       "<style scoped>\n",
       "    .dataframe tbody tr th:only-of-type {\n",
       "        vertical-align: middle;\n",
       "    }\n",
       "\n",
       "    .dataframe tbody tr th {\n",
       "        vertical-align: top;\n",
       "    }\n",
       "\n",
       "    .dataframe thead th {\n",
       "        text-align: right;\n",
       "    }\n",
       "</style>\n",
       "<table border=\"1\" class=\"dataframe\">\n",
       "  <thead>\n",
       "    <tr style=\"text-align: right;\">\n",
       "      <th></th>\n",
       "      <th>xyz_campaign_id</th>\n",
       "      <th>Spent</th>\n",
       "    </tr>\n",
       "  </thead>\n",
       "  <tbody>\n",
       "    <tr>\n",
       "      <th>0</th>\n",
       "      <td>916</td>\n",
       "      <td>149.710001</td>\n",
       "    </tr>\n",
       "    <tr>\n",
       "      <th>1</th>\n",
       "      <td>936</td>\n",
       "      <td>2893.369999</td>\n",
       "    </tr>\n",
       "    <tr>\n",
       "      <th>2</th>\n",
       "      <td>1178</td>\n",
       "      <td>55662.149959</td>\n",
       "    </tr>\n",
       "  </tbody>\n",
       "</table>\n",
       "</div>"
      ],
      "text/plain": [
       "   xyz_campaign_id         Spent\n",
       "0              916    149.710001\n",
       "1              936   2893.369999\n",
       "2             1178  55662.149959"
      ]
     },
     "execution_count": 45,
     "metadata": {},
     "output_type": "execute_result"
    }
   ],
   "source": [
    "df.groupby(\"xyz_campaign_id\")[\"Spent\"].agg('sum').reset_index()"
   ]
  },
  {
   "cell_type": "code",
   "execution_count": 46,
   "id": "b76e40df",
   "metadata": {},
   "outputs": [
    {
     "data": {
      "text/plain": [
       "<AxesSubplot:xlabel='xyz_campaign_id', ylabel='Spent'>"
      ]
     },
     "execution_count": 46,
     "metadata": {},
     "output_type": "execute_result"
    },
    {
     "data": {
      "image/png": "[encoded data removed]",
      "text/plain": [
       "<Figure size 864x864 with 1 Axes>"
      ]
     },
     "metadata": {},
     "output_type": "display_data"
    }
   ],
   "source": [
    "sns.set_theme()\n",
    "fig = plt.figure(figsize = (12,12))\n",
    "sns.boxplot(data=df,x = \"xyz_campaign_id\", y = \"Spent\")\n"
   ]
  },
  {
   "cell_type": "markdown",
   "id": "03993802",
   "metadata": {},
   "source": [
    "We will proceed with campaign '1178' by slicing a dataframe from it."
   ]
  },
  {
   "cell_type": "code",
   "execution_count": 47,
   "id": "efed5c34",
   "metadata": {},
   "outputs": [],
   "source": [
    "df_1178 = df[df[\"xyz_campaign_id\"] == 1178]"
   ]
  },
  {
   "cell_type": "code",
   "execution_count": 48,
   "id": "3452d83a",
   "metadata": {},
   "outputs": [
    {
     "data": {
      "text/plain": [
       "<AxesSubplot:xlabel='age', ylabel='Count'>"
      ]
     },
     "execution_count": 48,
     "metadata": {},
     "output_type": "execute_result"
    },
    {
     "data": {
      "image/png": "[encoded data removed]",
      "text/plain": [
       "<Figure size 432x288 with 1 Axes>"
      ]
     },
     "metadata": {},
     "output_type": "display_data"
    }
   ],
   "source": [
    "sns.histplot(data=df_1178, x = \"age\")"
   ]
  },
  {
   "cell_type": "code",
   "execution_count": 49,
   "id": "e9502e6f",
   "metadata": {},
   "outputs": [
    {
     "name": "stderr",
     "output_type": "stream",
     "text": [
      "C:\\Users\\farhanhasan\\AppData\\Local\\Temp\\ipykernel_22164\\976820842.py:1: SettingWithCopyWarning: \n",
      "A value is trying to be set on a copy of a slice from a DataFrame.\n",
      "Try using .loc[row_indexer,col_indexer] = value instead\n",
      "\n",
      "See the caveats in the documentation: https://pandas.pydata.org/pandas-docs/stable/user_guide/indexing.html#returning-a-view-versus-a-copy\n",
      "  df_1178[\"gender_letter\"] = df_1178[\"gender\"].apply(lambda x: 'M' if x == 0 else 'F')\n"
     ]
    },
    {
     "data": {
      "text/html": [
       "<div>\n",
       "<style scoped>\n",
       "    .dataframe tbody tr th:only-of-type {\n",
       "        vertical-align: middle;\n",
       "    }\n",
       "\n",
       "    .dataframe tbody tr th {\n",
       "        vertical-align: top;\n",
       "    }\n",
       "\n",
       "    .dataframe thead th {\n",
       "        text-align: right;\n",
       "    }\n",
       "</style>\n",
       "<table border=\"1\" class=\"dataframe\">\n",
       "  <thead>\n",
       "    <tr style=\"text-align: right;\">\n",
       "      <th></th>\n",
       "      <th>ad_id</th>\n",
       "      <th>xyz_campaign_id</th>\n",
       "      <th>fb_campaign_id</th>\n",
       "      <th>age</th>\n",
       "      <th>gender</th>\n",
       "      <th>interest</th>\n",
       "      <th>Impressions</th>\n",
       "      <th>Clicks</th>\n",
       "      <th>Spent</th>\n",
       "      <th>Conversions</th>\n",
       "      <th>Approved_Conversion</th>\n",
       "      <th>CTR</th>\n",
       "      <th>CR</th>\n",
       "      <th>CPC</th>\n",
       "      <th>gender_letter</th>\n",
       "    </tr>\n",
       "  </thead>\n",
       "  <tbody>\n",
       "    <tr>\n",
       "      <th>518</th>\n",
       "      <td>1121091</td>\n",
       "      <td>1178</td>\n",
       "      <td>144531</td>\n",
       "      <td>32.0</td>\n",
       "      <td>0</td>\n",
       "      <td>10</td>\n",
       "      <td>1194718</td>\n",
       "      <td>141</td>\n",
       "      <td>254.049996</td>\n",
       "      <td>28</td>\n",
       "      <td>14</td>\n",
       "      <td>11.801948</td>\n",
       "      <td>19.858156</td>\n",
       "      <td>1.801773</td>\n",
       "      <td>M</td>\n",
       "    </tr>\n",
       "    <tr>\n",
       "      <th>519</th>\n",
       "      <td>1121092</td>\n",
       "      <td>1178</td>\n",
       "      <td>144531</td>\n",
       "      <td>32.0</td>\n",
       "      <td>0</td>\n",
       "      <td>10</td>\n",
       "      <td>637648</td>\n",
       "      <td>67</td>\n",
       "      <td>122.400000</td>\n",
       "      <td>13</td>\n",
       "      <td>5</td>\n",
       "      <td>10.507365</td>\n",
       "      <td>19.402985</td>\n",
       "      <td>1.826866</td>\n",
       "      <td>M</td>\n",
       "    </tr>\n",
       "    <tr>\n",
       "      <th>520</th>\n",
       "      <td>1121094</td>\n",
       "      <td>1178</td>\n",
       "      <td>144531</td>\n",
       "      <td>32.0</td>\n",
       "      <td>0</td>\n",
       "      <td>10</td>\n",
       "      <td>24362</td>\n",
       "      <td>0</td>\n",
       "      <td>0.000000</td>\n",
       "      <td>1</td>\n",
       "      <td>1</td>\n",
       "      <td>0.000000</td>\n",
       "      <td>inf</td>\n",
       "      <td>NaN</td>\n",
       "      <td>M</td>\n",
       "    </tr>\n",
       "    <tr>\n",
       "      <th>521</th>\n",
       "      <td>1121095</td>\n",
       "      <td>1178</td>\n",
       "      <td>144531</td>\n",
       "      <td>32.0</td>\n",
       "      <td>0</td>\n",
       "      <td>10</td>\n",
       "      <td>459690</td>\n",
       "      <td>50</td>\n",
       "      <td>86.330001</td>\n",
       "      <td>5</td>\n",
       "      <td>2</td>\n",
       "      <td>10.876895</td>\n",
       "      <td>10.000000</td>\n",
       "      <td>1.726600</td>\n",
       "      <td>M</td>\n",
       "    </tr>\n",
       "    <tr>\n",
       "      <th>522</th>\n",
       "      <td>1121096</td>\n",
       "      <td>1178</td>\n",
       "      <td>144531</td>\n",
       "      <td>32.0</td>\n",
       "      <td>0</td>\n",
       "      <td>10</td>\n",
       "      <td>750060</td>\n",
       "      <td>86</td>\n",
       "      <td>161.909999</td>\n",
       "      <td>11</td>\n",
       "      <td>2</td>\n",
       "      <td>11.465749</td>\n",
       "      <td>12.790698</td>\n",
       "      <td>1.882674</td>\n",
       "      <td>M</td>\n",
       "    </tr>\n",
       "  </tbody>\n",
       "</table>\n",
       "</div>"
      ],
      "text/plain": [
       "       ad_id  xyz_campaign_id  fb_campaign_id   age  gender  interest  \\\n",
       "518  1121091             1178          144531  32.0       0        10   \n",
       "519  1121092             1178          144531  32.0       0        10   \n",
       "520  1121094             1178          144531  32.0       0        10   \n",
       "521  1121095             1178          144531  32.0       0        10   \n",
       "522  1121096             1178          144531  32.0       0        10   \n",
       "\n",
       "     Impressions  Clicks       Spent  Conversions  Approved_Conversion  \\\n",
       "518      1194718     141  254.049996           28                   14   \n",
       "519       637648      67  122.400000           13                    5   \n",
       "520        24362       0    0.000000            1                    1   \n",
       "521       459690      50   86.330001            5                    2   \n",
       "522       750060      86  161.909999           11                    2   \n",
       "\n",
       "           CTR         CR       CPC gender_letter  \n",
       "518  11.801948  19.858156  1.801773             M  \n",
       "519  10.507365  19.402985  1.826866             M  \n",
       "520   0.000000        inf       NaN             M  \n",
       "521  10.876895  10.000000  1.726600             M  \n",
       "522  11.465749  12.790698  1.882674             M  "
      ]
     },
     "execution_count": 49,
     "metadata": {},
     "output_type": "execute_result"
    }
   ],
   "source": [
    "df_1178[\"gender_letter\"] = df_1178[\"gender\"].apply(lambda x: 'M' if x == 0 else 'F')\n",
    "\n",
    "df_1178.head()\n"
   ]
  },
  {
   "cell_type": "code",
   "execution_count": 50,
   "id": "cfbac6a8",
   "metadata": {},
   "outputs": [
    {
     "data": {
      "text/plain": [
       "<AxesSubplot:xlabel='gender_letter', ylabel='Count'>"
      ]
     },
     "execution_count": 50,
     "metadata": {},
     "output_type": "execute_result"
    },
    {
     "data": {
      "image/png": "[encoded data removed]",
      "text/plain": [
       "<Figure size 432x288 with 1 Axes>"
      ]
     },
     "metadata": {},
     "output_type": "display_data"
    }
   ],
   "source": [
    "sns.histplot(data=df_1178, x = \"gender_letter\", binwidth = 1)"
   ]
  },
  {
   "cell_type": "code",
   "execution_count": 51,
   "id": "a822bd9d",
   "metadata": {},
   "outputs": [
    {
     "data": {
      "text/plain": [
       "Index(['ad_id', 'xyz_campaign_id', 'fb_campaign_id', 'age', 'gender',\n",
       "       'interest', 'Impressions', 'Clicks', 'Spent', 'Conversions',\n",
       "       'Approved_Conversion', 'CTR', 'CR', 'CPC', 'gender_letter'],\n",
       "      dtype='object')"
      ]
     },
     "execution_count": 51,
     "metadata": {},
     "output_type": "execute_result"
    }
   ],
   "source": [
    "df_1178.columns"
   ]
  },
  {
   "cell_type": "code",
   "execution_count": 52,
   "id": "2412d71d",
   "metadata": {},
   "outputs": [
    {
     "data": {
      "text/plain": [
       "<AxesSubplot:xlabel='Approved_Conversion', ylabel='Count'>"
      ]
     },
     "execution_count": 52,
     "metadata": {},
     "output_type": "execute_result"
    },
    {
     "data": {
      "image/png": "[encoded data removed]",
      "text/plain": [
       "<Figure size 1152x576 with 6 Axes>"
      ]
     },
     "metadata": {},
     "output_type": "display_data"
    }
   ],
   "source": [
    "fig, axes = plt.subplots(2, 3, figsize=(16,8))\n",
    "\n",
    "sns.histplot(ax=axes[0, 0], data=df_1178, x='interest')\n",
    "sns.histplot(ax=axes[0, 1], data=df_1178, x='Impressions')\n",
    "sns.histplot(ax=axes[0, 2], data=df_1178, x='Clicks')\n",
    "sns.histplot(ax=axes[1, 0], data=df_1178, x='Spent')\n",
    "sns.histplot(ax=axes[1, 1], data=df_1178, x='Conversions')\n",
    "sns.histplot(ax=axes[1, 2], data=df_1178, x='Approved_Conversion')"
   ]
  },
  {
   "cell_type": "markdown",
   "id": "26a8d0d9",
   "metadata": {},
   "source": []
  },
  {
   "cell_type": "markdown",
   "id": "5d63f8d2",
   "metadata": {},
   "source": [
    "By looking at the campaign variable ditribution and correlations we can get an idea of what sort of questions to ask."
   ]
  },
  {
   "cell_type": "markdown",
   "id": "bae54302",
   "metadata": {},
   "source": [
    "## Product Pricing"
   ]
  },
  {
   "cell_type": "markdown",
   "id": "2488ec20",
   "metadata": {},
   "source": [
    "We dont have the actual product that is being advertised for these campaigns so we will choose a set of data from Everlane's shirt products which have both male and female catagories.\n"
   ]
  },
  {
   "cell_type": "code",
   "execution_count": 53,
   "id": "ef14bfcc",
   "metadata": {},
   "outputs": [],
   "source": [
    "everlane = pd.read_csv(\"Everlane Prices.csv\")"
   ]
  },
  {
   "cell_type": "code",
   "execution_count": 54,
   "id": "f28fa3c9",
   "metadata": {},
   "outputs": [
    {
     "data": {
      "text/html": [
       "<div>\n",
       "<style scoped>\n",
       "    .dataframe tbody tr th:only-of-type {\n",
       "        vertical-align: middle;\n",
       "    }\n",
       "\n",
       "    .dataframe tbody tr th {\n",
       "        vertical-align: top;\n",
       "    }\n",
       "\n",
       "    .dataframe thead th {\n",
       "        text-align: right;\n",
       "    }\n",
       "</style>\n",
       "<table border=\"1\" class=\"dataframe\">\n",
       "  <thead>\n",
       "    <tr style=\"text-align: right;\">\n",
       "      <th></th>\n",
       "      <th>Men</th>\n",
       "      <th>Women</th>\n",
       "    </tr>\n",
       "  </thead>\n",
       "  <tbody>\n",
       "    <tr>\n",
       "      <th>0</th>\n",
       "      <td>C$140</td>\n",
       "      <td>C$352</td>\n",
       "    </tr>\n",
       "    <tr>\n",
       "      <th>1</th>\n",
       "      <td>C$135</td>\n",
       "      <td>C$208</td>\n",
       "    </tr>\n",
       "    <tr>\n",
       "      <th>2</th>\n",
       "      <td>C$300</td>\n",
       "      <td>C$62</td>\n",
       "    </tr>\n",
       "    <tr>\n",
       "      <th>3</th>\n",
       "      <td>C$201</td>\n",
       "      <td>C$352</td>\n",
       "    </tr>\n",
       "    <tr>\n",
       "      <th>4</th>\n",
       "      <td>C$197</td>\n",
       "      <td>C$227</td>\n",
       "    </tr>\n",
       "  </tbody>\n",
       "</table>\n",
       "</div>"
      ],
      "text/plain": [
       "     Men  Women\n",
       "0  C$140  C$352\n",
       "1  C$135  C$208\n",
       "2  C$300   C$62\n",
       "3  C$201  C$352\n",
       "4  C$197  C$227"
      ]
     },
     "execution_count": 54,
     "metadata": {},
     "output_type": "execute_result"
    }
   ],
   "source": [
    "everlane.head()"
   ]
  },
  {
   "cell_type": "code",
   "execution_count": 55,
   "id": "f9e47df5",
   "metadata": {},
   "outputs": [],
   "source": [
    "everlane['Men'] = everlane['Men'].str.extract(r'^C\\$([0-9]*)')\n",
    "\n",
    "everlane['Women'] = everlane['Women'].str.extract(r'^C\\$([0-9]*)')"
   ]
  },
  {
   "cell_type": "code",
   "execution_count": 56,
   "id": "4a4793dc",
   "metadata": {},
   "outputs": [
    {
     "data": {
      "text/html": [
       "<div>\n",
       "<style scoped>\n",
       "    .dataframe tbody tr th:only-of-type {\n",
       "        vertical-align: middle;\n",
       "    }\n",
       "\n",
       "    .dataframe tbody tr th {\n",
       "        vertical-align: top;\n",
       "    }\n",
       "\n",
       "    .dataframe thead th {\n",
       "        text-align: right;\n",
       "    }\n",
       "</style>\n",
       "<table border=\"1\" class=\"dataframe\">\n",
       "  <thead>\n",
       "    <tr style=\"text-align: right;\">\n",
       "      <th></th>\n",
       "      <th>Men</th>\n",
       "      <th>Women</th>\n",
       "    </tr>\n",
       "  </thead>\n",
       "  <tbody>\n",
       "    <tr>\n",
       "      <th>0</th>\n",
       "      <td>140</td>\n",
       "      <td>352</td>\n",
       "    </tr>\n",
       "    <tr>\n",
       "      <th>1</th>\n",
       "      <td>135</td>\n",
       "      <td>208</td>\n",
       "    </tr>\n",
       "    <tr>\n",
       "      <th>2</th>\n",
       "      <td>300</td>\n",
       "      <td>62</td>\n",
       "    </tr>\n",
       "    <tr>\n",
       "      <th>3</th>\n",
       "      <td>201</td>\n",
       "      <td>352</td>\n",
       "    </tr>\n",
       "    <tr>\n",
       "      <th>4</th>\n",
       "      <td>197</td>\n",
       "      <td>227</td>\n",
       "    </tr>\n",
       "  </tbody>\n",
       "</table>\n",
       "</div>"
      ],
      "text/plain": [
       "   Men Women\n",
       "0  140   352\n",
       "1  135   208\n",
       "2  300    62\n",
       "3  201   352\n",
       "4  197   227"
      ]
     },
     "execution_count": 56,
     "metadata": {},
     "output_type": "execute_result"
    }
   ],
   "source": [
    "everlane.head()"
   ]
  },
  {
   "cell_type": "code",
   "execution_count": 57,
   "id": "227a9325",
   "metadata": {},
   "outputs": [
    {
     "data": {
      "text/plain": [
       "Men      51\n",
       "Women    12\n",
       "dtype: int64"
      ]
     },
     "execution_count": 57,
     "metadata": {},
     "output_type": "execute_result"
    }
   ],
   "source": [
    "everlane.isna().sum()"
   ]
  },
  {
   "cell_type": "code",
   "execution_count": 58,
   "id": "7076f397",
   "metadata": {},
   "outputs": [],
   "source": [
    "everlane[\"Men\"] = pd.to_numeric(everlane[\"Men\"], errors='coerce')"
   ]
  },
  {
   "cell_type": "code",
   "execution_count": 59,
   "id": "efebee95",
   "metadata": {},
   "outputs": [],
   "source": [
    "everlane[\"Women\"] = pd.to_numeric(everlane[\"Women\"], errors='coerce')"
   ]
  },
  {
   "cell_type": "code",
   "execution_count": 60,
   "id": "4f16ee2a",
   "metadata": {},
   "outputs": [
    {
     "data": {
      "text/plain": [
       "Men      float64\n",
       "Women    float64\n",
       "dtype: object"
      ]
     },
     "execution_count": 60,
     "metadata": {},
     "output_type": "execute_result"
    }
   ],
   "source": [
    "everlane.dtypes"
   ]
  },
  {
   "cell_type": "code",
   "execution_count": 61,
   "id": "ccc14d03",
   "metadata": {},
   "outputs": [],
   "source": [
    "everlane[\"Men\"].fillna(everlane[\"Men\"].mean(),inplace = True)\n"
   ]
  },
  {
   "cell_type": "code",
   "execution_count": 62,
   "id": "8636403c",
   "metadata": {},
   "outputs": [],
   "source": [
    "everlane[\"Women\"].fillna(everlane[\"Women\"].mean(),inplace = True)"
   ]
  },
  {
   "cell_type": "code",
   "execution_count": 63,
   "id": "20c4ba96",
   "metadata": {},
   "outputs": [
    {
     "name": "stdout",
     "output_type": "stream",
     "text": [
      "Men clothes average price is  128.7045454545455\n",
      "Women clothes average price is  156.11023622047242\n"
     ]
    }
   ],
   "source": [
    "print(\"Men clothes average price is \", everlane[\"Men\"].mean())\n",
    "print(\"Women clothes average price is \", everlane[\"Women\"].mean())"
   ]
  },
  {
   "cell_type": "markdown",
   "id": "4899776c",
   "metadata": {},
   "source": [
    "We can create more variables based on our product pricing"
   ]
  },
  {
   "cell_type": "markdown",
   "id": "d2754c6a",
   "metadata": {},
   "source": [
    "**Total Conversions**\n",
    "Total conversions = Conversions + Approved Conversions\n",
    "\n",
    "**Conversion_Val = Conversions x C\\\\$5**\n",
    "\n",
    "**Approved_Conversions_Val = Approved_Conversions x (C\\\\$129 for Male , C\\\\$156 for Women)**\n",
    "\n",
    "**Total Conversion Val = Conversions_Val + Approved_Conversions_Val**\n",
    "\n",
    "**Cost per Conversion  = Spent / Total Conversions**\n",
    "\n",
    "The Final Metric is very important Return of advertising spending (ROAS)\n",
    "\n",
    "**ROAS = Total Conversion Val / Spent**"
   ]
  },
  {
   "cell_type": "code",
   "execution_count": 64,
   "id": "5ed17648",
   "metadata": {},
   "outputs": [
    {
     "name": "stderr",
     "output_type": "stream",
     "text": [
      "C:\\Users\\farhanhasan\\AppData\\Local\\Temp\\ipykernel_22164\\1323721878.py:1: SettingWithCopyWarning: \n",
      "A value is trying to be set on a copy of a slice from a DataFrame.\n",
      "Try using .loc[row_indexer,col_indexer] = value instead\n",
      "\n",
      "See the caveats in the documentation: https://pandas.pydata.org/pandas-docs/stable/user_guide/indexing.html#returning-a-view-versus-a-copy\n",
      "  df_1178[\"Total Conversions\"] = df_1178[[\"Conversions\",\"Approved_Conversion\"]].sum(axis = 1)\n"
     ]
    }
   ],
   "source": [
    "df_1178[\"Total Conversions\"] = df_1178[[\"Conversions\",\"Approved_Conversion\"]].sum(axis = 1)"
   ]
  },
  {
   "cell_type": "code",
   "execution_count": 65,
   "id": "61d81b73",
   "metadata": {},
   "outputs": [
    {
     "name": "stderr",
     "output_type": "stream",
     "text": [
      "C:\\Users\\farhanhasan\\AppData\\Local\\Temp\\ipykernel_22164\\2409636850.py:1: SettingWithCopyWarning: \n",
      "A value is trying to be set on a copy of a slice from a DataFrame.\n",
      "Try using .loc[row_indexer,col_indexer] = value instead\n",
      "\n",
      "See the caveats in the documentation: https://pandas.pydata.org/pandas-docs/stable/user_guide/indexing.html#returning-a-view-versus-a-copy\n",
      "  df_1178[\"Conversion_Val\"] = df_1178[\"Conversions\"] * 5\n"
     ]
    }
   ],
   "source": [
    "df_1178[\"Conversion_Val\"] = df_1178[\"Conversions\"] * 5"
   ]
  },
  {
   "cell_type": "code",
   "execution_count": 66,
   "id": "2496f3bc",
   "metadata": {},
   "outputs": [],
   "source": [
    "def approved_conv_val(df, conv, gender):\n",
    "    if gender == 0:\n",
    "        conv_val = conv * 129\n",
    "    else:\n",
    "        conv_val = conv * 156\n",
    "    return conv_val"
   ]
  },
  {
   "cell_type": "code",
   "execution_count": 67,
   "id": "d7d16a8d",
   "metadata": {},
   "outputs": [
    {
     "name": "stderr",
     "output_type": "stream",
     "text": [
      "C:\\Users\\farhanhasan\\AppData\\Local\\Temp\\ipykernel_22164\\1215082715.py:1: SettingWithCopyWarning: \n",
      "A value is trying to be set on a copy of a slice from a DataFrame.\n",
      "Try using .loc[row_indexer,col_indexer] = value instead\n",
      "\n",
      "See the caveats in the documentation: https://pandas.pydata.org/pandas-docs/stable/user_guide/indexing.html#returning-a-view-versus-a-copy\n",
      "  df_1178[\"Approved_conv_val\"] = df_1178.apply(lambda x: approved_conv_val(x,x[\"Approved_Conversion\"], x[\"gender\"]),axis=1 )\n"
     ]
    }
   ],
   "source": [
    "df_1178[\"Approved_conv_val\"] = df_1178.apply(lambda x: approved_conv_val(x,x[\"Approved_Conversion\"], x[\"gender\"]),axis=1 )"
   ]
  },
  {
   "cell_type": "code",
   "execution_count": 81,
   "id": "459677ab",
   "metadata": {},
   "outputs": [
    {
     "data": {
      "text/html": [
       "<div>\n",
       "<style scoped>\n",
       "    .dataframe tbody tr th:only-of-type {\n",
       "        vertical-align: middle;\n",
       "    }\n",
       "\n",
       "    .dataframe tbody tr th {\n",
       "        vertical-align: top;\n",
       "    }\n",
       "\n",
       "    .dataframe thead th {\n",
       "        text-align: right;\n",
       "    }\n",
       "</style>\n",
       "<table border=\"1\" class=\"dataframe\">\n",
       "  <thead>\n",
       "    <tr style=\"text-align: right;\">\n",
       "      <th></th>\n",
       "      <th>ad_id</th>\n",
       "      <th>xyz_campaign_id</th>\n",
       "      <th>fb_campaign_id</th>\n",
       "      <th>age</th>\n",
       "      <th>gender</th>\n",
       "      <th>interest</th>\n",
       "      <th>Impressions</th>\n",
       "      <th>Clicks</th>\n",
       "      <th>Spent</th>\n",
       "      <th>Conversions</th>\n",
       "      <th>...</th>\n",
       "      <th>CTR</th>\n",
       "      <th>CR</th>\n",
       "      <th>CPC</th>\n",
       "      <th>gender_letter</th>\n",
       "      <th>Total Conversions</th>\n",
       "      <th>Conversion_Val</th>\n",
       "      <th>Approved_conv_val</th>\n",
       "      <th>Total_Conv_Val</th>\n",
       "      <th>CostperConv</th>\n",
       "      <th>ROAS</th>\n",
       "    </tr>\n",
       "  </thead>\n",
       "  <tbody>\n",
       "    <tr>\n",
       "      <th>518</th>\n",
       "      <td>1121091</td>\n",
       "      <td>1178</td>\n",
       "      <td>144531</td>\n",
       "      <td>32.0</td>\n",
       "      <td>0</td>\n",
       "      <td>10</td>\n",
       "      <td>1194718</td>\n",
       "      <td>141</td>\n",
       "      <td>254.049996</td>\n",
       "      <td>28</td>\n",
       "      <td>...</td>\n",
       "      <td>11.801948</td>\n",
       "      <td>19.858156</td>\n",
       "      <td>1.801773</td>\n",
       "      <td>M</td>\n",
       "      <td>42</td>\n",
       "      <td>140</td>\n",
       "      <td>1806</td>\n",
       "      <td>1946</td>\n",
       "      <td>6.048809</td>\n",
       "      <td>7.629877</td>\n",
       "    </tr>\n",
       "    <tr>\n",
       "      <th>519</th>\n",
       "      <td>1121092</td>\n",
       "      <td>1178</td>\n",
       "      <td>144531</td>\n",
       "      <td>32.0</td>\n",
       "      <td>0</td>\n",
       "      <td>10</td>\n",
       "      <td>637648</td>\n",
       "      <td>67</td>\n",
       "      <td>122.400000</td>\n",
       "      <td>13</td>\n",
       "      <td>...</td>\n",
       "      <td>10.507365</td>\n",
       "      <td>19.402985</td>\n",
       "      <td>1.826866</td>\n",
       "      <td>M</td>\n",
       "      <td>18</td>\n",
       "      <td>65</td>\n",
       "      <td>645</td>\n",
       "      <td>710</td>\n",
       "      <td>6.800000</td>\n",
       "      <td>5.753647</td>\n",
       "    </tr>\n",
       "    <tr>\n",
       "      <th>520</th>\n",
       "      <td>1121094</td>\n",
       "      <td>1178</td>\n",
       "      <td>144531</td>\n",
       "      <td>32.0</td>\n",
       "      <td>0</td>\n",
       "      <td>10</td>\n",
       "      <td>24362</td>\n",
       "      <td>0</td>\n",
       "      <td>0.000000</td>\n",
       "      <td>1</td>\n",
       "      <td>...</td>\n",
       "      <td>0.000000</td>\n",
       "      <td>inf</td>\n",
       "      <td>NaN</td>\n",
       "      <td>M</td>\n",
       "      <td>2</td>\n",
       "      <td>5</td>\n",
       "      <td>129</td>\n",
       "      <td>134</td>\n",
       "      <td>0.000000</td>\n",
       "      <td>134.000000</td>\n",
       "    </tr>\n",
       "    <tr>\n",
       "      <th>521</th>\n",
       "      <td>1121095</td>\n",
       "      <td>1178</td>\n",
       "      <td>144531</td>\n",
       "      <td>32.0</td>\n",
       "      <td>0</td>\n",
       "      <td>10</td>\n",
       "      <td>459690</td>\n",
       "      <td>50</td>\n",
       "      <td>86.330001</td>\n",
       "      <td>5</td>\n",
       "      <td>...</td>\n",
       "      <td>10.876895</td>\n",
       "      <td>10.000000</td>\n",
       "      <td>1.726600</td>\n",
       "      <td>M</td>\n",
       "      <td>7</td>\n",
       "      <td>25</td>\n",
       "      <td>258</td>\n",
       "      <td>283</td>\n",
       "      <td>12.332857</td>\n",
       "      <td>3.240582</td>\n",
       "    </tr>\n",
       "    <tr>\n",
       "      <th>522</th>\n",
       "      <td>1121096</td>\n",
       "      <td>1178</td>\n",
       "      <td>144531</td>\n",
       "      <td>32.0</td>\n",
       "      <td>0</td>\n",
       "      <td>10</td>\n",
       "      <td>750060</td>\n",
       "      <td>86</td>\n",
       "      <td>161.909999</td>\n",
       "      <td>11</td>\n",
       "      <td>...</td>\n",
       "      <td>11.465749</td>\n",
       "      <td>12.790698</td>\n",
       "      <td>1.882674</td>\n",
       "      <td>M</td>\n",
       "      <td>13</td>\n",
       "      <td>55</td>\n",
       "      <td>258</td>\n",
       "      <td>313</td>\n",
       "      <td>12.454615</td>\n",
       "      <td>1.921306</td>\n",
       "    </tr>\n",
       "  </tbody>\n",
       "</table>\n",
       "<p>5 rows × 21 columns</p>\n",
       "</div>"
      ],
      "text/plain": [
       "       ad_id  xyz_campaign_id  fb_campaign_id   age  gender  interest  \\\n",
       "518  1121091             1178          144531  32.0       0        10   \n",
       "519  1121092             1178          144531  32.0       0        10   \n",
       "520  1121094             1178          144531  32.0       0        10   \n",
       "521  1121095             1178          144531  32.0       0        10   \n",
       "522  1121096             1178          144531  32.0       0        10   \n",
       "\n",
       "     Impressions  Clicks       Spent  Conversions  ...        CTR         CR  \\\n",
       "518      1194718     141  254.049996           28  ...  11.801948  19.858156   \n",
       "519       637648      67  122.400000           13  ...  10.507365  19.402985   \n",
       "520        24362       0    0.000000            1  ...   0.000000        inf   \n",
       "521       459690      50   86.330001            5  ...  10.876895  10.000000   \n",
       "522       750060      86  161.909999           11  ...  11.465749  12.790698   \n",
       "\n",
       "          CPC  gender_letter Total Conversions  Conversion_Val  \\\n",
       "518  1.801773              M                42             140   \n",
       "519  1.826866              M                18              65   \n",
       "520       NaN              M                 2               5   \n",
       "521  1.726600              M                 7              25   \n",
       "522  1.882674              M                13              55   \n",
       "\n",
       "     Approved_conv_val  Total_Conv_Val  CostperConv        ROAS  \n",
       "518               1806            1946     6.048809    7.629877  \n",
       "519                645             710     6.800000    5.753647  \n",
       "520                129             134     0.000000  134.000000  \n",
       "521                258             283    12.332857    3.240582  \n",
       "522                258             313    12.454615    1.921306  \n",
       "\n",
       "[5 rows x 21 columns]"
      ]
     },
     "execution_count": 81,
     "metadata": {},
     "output_type": "execute_result"
    }
   ],
   "source": [
    "df_1178.head()"
   ]
  },
  {
   "cell_type": "code",
   "execution_count": 69,
   "id": "6982b71b",
   "metadata": {},
   "outputs": [
    {
     "name": "stderr",
     "output_type": "stream",
     "text": [
      "C:\\Users\\farhanhasan\\AppData\\Local\\Temp\\ipykernel_22164\\2728654438.py:1: SettingWithCopyWarning: \n",
      "A value is trying to be set on a copy of a slice from a DataFrame.\n",
      "Try using .loc[row_indexer,col_indexer] = value instead\n",
      "\n",
      "See the caveats in the documentation: https://pandas.pydata.org/pandas-docs/stable/user_guide/indexing.html#returning-a-view-versus-a-copy\n",
      "  df_1178[\"Total_Conv_Val\"] = df_1178[[\"Conversion_Val\",\"Approved_conv_val\"]].sum(axis = 1)\n"
     ]
    }
   ],
   "source": [
    "df_1178[\"Total_Conv_Val\"] = df_1178[[\"Conversion_Val\",\"Approved_conv_val\"]].sum(axis = 1)"
   ]
  },
  {
   "cell_type": "code",
   "execution_count": 70,
   "id": "1eec0c04",
   "metadata": {},
   "outputs": [
    {
     "name": "stderr",
     "output_type": "stream",
     "text": [
      "C:\\Users\\farhanhasan\\AppData\\Local\\Temp\\ipykernel_22164\\958404089.py:1: SettingWithCopyWarning: \n",
      "A value is trying to be set on a copy of a slice from a DataFrame.\n",
      "Try using .loc[row_indexer,col_indexer] = value instead\n",
      "\n",
      "See the caveats in the documentation: https://pandas.pydata.org/pandas-docs/stable/user_guide/indexing.html#returning-a-view-versus-a-copy\n",
      "  df_1178[\"CostperConv\"] = df_1178[\"Spent\"]/ df_1178[\"Total Conversions\"]\n"
     ]
    }
   ],
   "source": [
    "df_1178[\"CostperConv\"] = df_1178[\"Spent\"]/ df_1178[\"Total Conversions\"]"
   ]
  },
  {
   "cell_type": "code",
   "execution_count": 79,
   "id": "9356b09c",
   "metadata": {},
   "outputs": [
    {
     "name": "stderr",
     "output_type": "stream",
     "text": [
      "C:\\Users\\farhanhasan\\AppData\\Local\\Temp\\ipykernel_22164\\3035748584.py:2: SettingWithCopyWarning: \n",
      "A value is trying to be set on a copy of a slice from a DataFrame.\n",
      "Try using .loc[row_indexer,col_indexer] = value instead\n",
      "\n",
      "See the caveats in the documentation: https://pandas.pydata.org/pandas-docs/stable/user_guide/indexing.html#returning-a-view-versus-a-copy\n",
      "  df_1178[\"ROAS\"] = df_1178[\"Total_Conv_Val\"]/ (df_1178[\"Spent\"]+1)\n"
     ]
    }
   ],
   "source": [
    "#adding df_1178[\"Spent\"]+1 to avoid infinity as ROAS value\n",
    "df_1178[\"ROAS\"] = df_1178[\"Total_Conv_Val\"]/ (df_1178[\"Spent\"]+1)"
   ]
  },
  {
   "cell_type": "markdown",
   "id": "6ed32b23",
   "metadata": {},
   "source": [
    "Let us create a simple linear regression for the amount spent and conversions."
   ]
  },
  {
   "cell_type": "code",
   "execution_count": 80,
   "id": "7bf7d11f",
   "metadata": {},
   "outputs": [
    {
     "data": {
      "text/plain": [
       "<AxesSubplot:xlabel='Spent', ylabel='Total_Conv_Val'>"
      ]
     },
     "execution_count": 80,
     "metadata": {},
     "output_type": "execute_result"
    },
    {
     "data": {
      "image/png": "[encoded data removed]",
      "text/plain": [
       "<Figure size 432x288 with 1 Axes>"
      ]
     },
     "metadata": {},
     "output_type": "display_data"
    }
   ],
   "source": [
    "sns.regplot(x='Spent',y=\"Total_Conv_Val\", data = df_1178)"
   ]
  },
  {
   "cell_type": "markdown",
   "id": "a306d652",
   "metadata": {},
   "source": [
    "With most data grouped up towards the left and with sparse data points to the right, it is difficult to say with enough confidence that higher advertising budget will result in more total conversion value."
   ]
  },
  {
   "cell_type": "markdown",
   "id": "06714eca",
   "metadata": {},
   "source": [
    "Let us break our data for ROAS into their gender demographic for more insights.\n"
   ]
  },
  {
   "cell_type": "code",
   "execution_count": 82,
   "id": "7a098129",
   "metadata": {},
   "outputs": [
    {
     "data": {
      "text/plain": [
       "<AxesSubplot:xlabel='gender_letter', ylabel='ROAS'>"
      ]
     },
     "execution_count": 82,
     "metadata": {},
     "output_type": "execute_result"
    },
    {
     "data": {
      "image/png": "[encoded data removed]",
      "text/plain": [
       "<Figure size 432x288 with 1 Axes>"
      ]
     },
     "metadata": {},
     "output_type": "display_data"
    }
   ],
   "source": [
    "sns.boxplot(data = df_1178, x = \"gender_letter\", y = \"ROAS\")"
   ]
  },
  {
   "cell_type": "markdown",
   "id": "56cd05a1",
   "metadata": {},
   "source": [
    "The box plot shows that we need to normalize the data. A log(1+x) transformation should take care of this."
   ]
  },
  {
   "cell_type": "code",
   "execution_count": 83,
   "id": "96d800a3",
   "metadata": {},
   "outputs": [],
   "source": [
    "df_2_1178 = df_1178.copy()\n",
    "\n",
    "df_2_1178[\"ROAS\"] = np.log1p(df_2_1178[\"ROAS\"])"
   ]
  },
  {
   "cell_type": "code",
   "execution_count": 84,
   "id": "9625a2a1",
   "metadata": {},
   "outputs": [
    {
     "data": {
      "text/html": [
       "<div>\n",
       "<style scoped>\n",
       "    .dataframe tbody tr th:only-of-type {\n",
       "        vertical-align: middle;\n",
       "    }\n",
       "\n",
       "    .dataframe tbody tr th {\n",
       "        vertical-align: top;\n",
       "    }\n",
       "\n",
       "    .dataframe thead th {\n",
       "        text-align: right;\n",
       "    }\n",
       "</style>\n",
       "<table border=\"1\" class=\"dataframe\">\n",
       "  <thead>\n",
       "    <tr style=\"text-align: right;\">\n",
       "      <th></th>\n",
       "      <th>ad_id</th>\n",
       "      <th>xyz_campaign_id</th>\n",
       "      <th>fb_campaign_id</th>\n",
       "      <th>age</th>\n",
       "      <th>gender</th>\n",
       "      <th>interest</th>\n",
       "      <th>Impressions</th>\n",
       "      <th>Clicks</th>\n",
       "      <th>Spent</th>\n",
       "      <th>Conversions</th>\n",
       "      <th>...</th>\n",
       "      <th>CTR</th>\n",
       "      <th>CR</th>\n",
       "      <th>CPC</th>\n",
       "      <th>gender_letter</th>\n",
       "      <th>Total Conversions</th>\n",
       "      <th>Conversion_Val</th>\n",
       "      <th>Approved_conv_val</th>\n",
       "      <th>Total_Conv_Val</th>\n",
       "      <th>CostperConv</th>\n",
       "      <th>ROAS</th>\n",
       "    </tr>\n",
       "  </thead>\n",
       "  <tbody>\n",
       "    <tr>\n",
       "      <th>518</th>\n",
       "      <td>1121091</td>\n",
       "      <td>1178</td>\n",
       "      <td>144531</td>\n",
       "      <td>32.0</td>\n",
       "      <td>0</td>\n",
       "      <td>10</td>\n",
       "      <td>1194718</td>\n",
       "      <td>141</td>\n",
       "      <td>254.049996</td>\n",
       "      <td>28</td>\n",
       "      <td>...</td>\n",
       "      <td>11.801948</td>\n",
       "      <td>19.858156</td>\n",
       "      <td>1.801773</td>\n",
       "      <td>M</td>\n",
       "      <td>42</td>\n",
       "      <td>140</td>\n",
       "      <td>1806</td>\n",
       "      <td>1946</td>\n",
       "      <td>6.048809</td>\n",
       "      <td>2.155230</td>\n",
       "    </tr>\n",
       "    <tr>\n",
       "      <th>519</th>\n",
       "      <td>1121092</td>\n",
       "      <td>1178</td>\n",
       "      <td>144531</td>\n",
       "      <td>32.0</td>\n",
       "      <td>0</td>\n",
       "      <td>10</td>\n",
       "      <td>637648</td>\n",
       "      <td>67</td>\n",
       "      <td>122.400000</td>\n",
       "      <td>13</td>\n",
       "      <td>...</td>\n",
       "      <td>10.507365</td>\n",
       "      <td>19.402985</td>\n",
       "      <td>1.826866</td>\n",
       "      <td>M</td>\n",
       "      <td>18</td>\n",
       "      <td>65</td>\n",
       "      <td>645</td>\n",
       "      <td>710</td>\n",
       "      <td>6.800000</td>\n",
       "      <td>1.910083</td>\n",
       "    </tr>\n",
       "    <tr>\n",
       "      <th>520</th>\n",
       "      <td>1121094</td>\n",
       "      <td>1178</td>\n",
       "      <td>144531</td>\n",
       "      <td>32.0</td>\n",
       "      <td>0</td>\n",
       "      <td>10</td>\n",
       "      <td>24362</td>\n",
       "      <td>0</td>\n",
       "      <td>0.000000</td>\n",
       "      <td>1</td>\n",
       "      <td>...</td>\n",
       "      <td>0.000000</td>\n",
       "      <td>inf</td>\n",
       "      <td>NaN</td>\n",
       "      <td>M</td>\n",
       "      <td>2</td>\n",
       "      <td>5</td>\n",
       "      <td>129</td>\n",
       "      <td>134</td>\n",
       "      <td>0.000000</td>\n",
       "      <td>4.905275</td>\n",
       "    </tr>\n",
       "    <tr>\n",
       "      <th>521</th>\n",
       "      <td>1121095</td>\n",
       "      <td>1178</td>\n",
       "      <td>144531</td>\n",
       "      <td>32.0</td>\n",
       "      <td>0</td>\n",
       "      <td>10</td>\n",
       "      <td>459690</td>\n",
       "      <td>50</td>\n",
       "      <td>86.330001</td>\n",
       "      <td>5</td>\n",
       "      <td>...</td>\n",
       "      <td>10.876895</td>\n",
       "      <td>10.000000</td>\n",
       "      <td>1.726600</td>\n",
       "      <td>M</td>\n",
       "      <td>7</td>\n",
       "      <td>25</td>\n",
       "      <td>258</td>\n",
       "      <td>283</td>\n",
       "      <td>12.332857</td>\n",
       "      <td>1.444700</td>\n",
       "    </tr>\n",
       "    <tr>\n",
       "      <th>522</th>\n",
       "      <td>1121096</td>\n",
       "      <td>1178</td>\n",
       "      <td>144531</td>\n",
       "      <td>32.0</td>\n",
       "      <td>0</td>\n",
       "      <td>10</td>\n",
       "      <td>750060</td>\n",
       "      <td>86</td>\n",
       "      <td>161.909999</td>\n",
       "      <td>11</td>\n",
       "      <td>...</td>\n",
       "      <td>11.465749</td>\n",
       "      <td>12.790698</td>\n",
       "      <td>1.882674</td>\n",
       "      <td>M</td>\n",
       "      <td>13</td>\n",
       "      <td>55</td>\n",
       "      <td>258</td>\n",
       "      <td>313</td>\n",
       "      <td>12.454615</td>\n",
       "      <td>1.072031</td>\n",
       "    </tr>\n",
       "  </tbody>\n",
       "</table>\n",
       "<p>5 rows × 21 columns</p>\n",
       "</div>"
      ],
      "text/plain": [
       "       ad_id  xyz_campaign_id  fb_campaign_id   age  gender  interest  \\\n",
       "518  1121091             1178          144531  32.0       0        10   \n",
       "519  1121092             1178          144531  32.0       0        10   \n",
       "520  1121094             1178          144531  32.0       0        10   \n",
       "521  1121095             1178          144531  32.0       0        10   \n",
       "522  1121096             1178          144531  32.0       0        10   \n",
       "\n",
       "     Impressions  Clicks       Spent  Conversions  ...        CTR         CR  \\\n",
       "518      1194718     141  254.049996           28  ...  11.801948  19.858156   \n",
       "519       637648      67  122.400000           13  ...  10.507365  19.402985   \n",
       "520        24362       0    0.000000            1  ...   0.000000        inf   \n",
       "521       459690      50   86.330001            5  ...  10.876895  10.000000   \n",
       "522       750060      86  161.909999           11  ...  11.465749  12.790698   \n",
       "\n",
       "          CPC  gender_letter Total Conversions  Conversion_Val  \\\n",
       "518  1.801773              M                42             140   \n",
       "519  1.826866              M                18              65   \n",
       "520       NaN              M                 2               5   \n",
       "521  1.726600              M                 7              25   \n",
       "522  1.882674              M                13              55   \n",
       "\n",
       "     Approved_conv_val  Total_Conv_Val  CostperConv      ROAS  \n",
       "518               1806            1946     6.048809  2.155230  \n",
       "519                645             710     6.800000  1.910083  \n",
       "520                129             134     0.000000  4.905275  \n",
       "521                258             283    12.332857  1.444700  \n",
       "522                258             313    12.454615  1.072031  \n",
       "\n",
       "[5 rows x 21 columns]"
      ]
     },
     "execution_count": 84,
     "metadata": {},
     "output_type": "execute_result"
    }
   ],
   "source": [
    "df_2_1178.head()"
   ]
  },
  {
   "cell_type": "code",
   "execution_count": 85,
   "id": "e78f9127",
   "metadata": {},
   "outputs": [
    {
     "data": {
      "text/plain": [
       "<AxesSubplot:xlabel='gender_letter', ylabel='ROAS'>"
      ]
     },
     "execution_count": 85,
     "metadata": {},
     "output_type": "execute_result"
    },
    {
     "data": {
      "image/png": "[encoded data removed]",
      "text/plain": [
       "<Figure size 432x288 with 1 Axes>"
      ]
     },
     "metadata": {},
     "output_type": "display_data"
    }
   ],
   "source": [
    "sns.boxplot(data = df_2_1178, x = \"gender_letter\", y = \"ROAS\")"
   ]
  },
  {
   "cell_type": "code",
   "execution_count": 90,
   "id": "d2346c48",
   "metadata": {},
   "outputs": [
    {
     "data": {
      "text/plain": [
       "518     2.155230\n",
       "519     1.910083\n",
       "520     4.905275\n",
       "521     1.444700\n",
       "522     1.072031\n",
       "          ...   \n",
       "1086    1.482490\n",
       "1087    1.546883\n",
       "1088    0.217491\n",
       "1089    0.705022\n",
       "1090    0.148376\n",
       "Name: ROAS, Length: 349, dtype: float64"
      ]
     },
     "execution_count": 90,
     "metadata": {},
     "output_type": "execute_result"
    }
   ],
   "source": []
  },
  {
   "cell_type": "code",
   "execution_count": 91,
   "id": "fcf4a219",
   "metadata": {},
   "outputs": [
    {
     "name": "stdout",
     "output_type": "stream",
     "text": [
      "Mean ROAS for Male 1.2787291268979057\n"
     ]
    }
   ],
   "source": [
    "ROAS_M = df_2_1178[df_2_1178[\"gender_letter\"] == \"M\"][\"ROAS\"]\n",
    "\n",
    "ROAS_M_mean = df_2_1178[df_2_1178[\"gender_letter\"] == \"M\"][\"ROAS\"].mean()\n",
    "\n",
    "print(\"Mean ROAS for Male\", ROAS_M_mean)"
   ]
  },
  {
   "cell_type": "code",
   "execution_count": 92,
   "id": "ee3efeba",
   "metadata": {},
   "outputs": [
    {
     "name": "stdout",
     "output_type": "stream",
     "text": [
      "Mean ROAS for Female 1.0705377163620702\n"
     ]
    }
   ],
   "source": [
    "ROAS_F = df_2_1178[df_2_1178[\"gender_letter\"] == \"F\"][\"ROAS\"]\n",
    "\n",
    "ROAS_F_mean = df_2_1178[df_2_1178[\"gender_letter\"] == \"F\"][\"ROAS\"].mean()\n",
    "\n",
    "print(\"Mean ROAS for Female\", ROAS_F_mean)"
   ]
  },
  {
   "cell_type": "markdown",
   "id": "066f7217",
   "metadata": {},
   "source": [
    "The mean ROAS for male customers are higher than female, but is this a significant difference?\n",
    "\n",
    "Let us test.\n",
    "\n",
    "Null Hypothesis is ROAS_Male = ROAS_Female\n",
    "Alternate Hypothesis is   ROAS_Male - ROAS_Female != 0\n",
    "\n"
   ]
  },
  {
   "cell_type": "code",
   "execution_count": 105,
   "id": "225c7e84",
   "metadata": {
    "scrolled": true
   },
   "outputs": [
    {
     "data": {
      "text/plain": [
       "Ttest_indResult(statistic=2.7813457984062384, pvalue=0.005579478833210425)"
      ]
     },
     "execution_count": 105,
     "metadata": {},
     "output_type": "execute_result"
    }
   ],
   "source": [
    "from scipy import stats\n",
    "\n",
    "stats.ttest_ind(ROAS_M, ROAS_F, equal_var = False)"
   ]
  },
  {
   "cell_type": "markdown",
   "id": "d2aceece",
   "metadata": {},
   "source": [
    "As the p-value is less than 0.05 we can reject the null and say with 95% confidence that the ROAS for Male and Female is different."
   ]
  },
  {
   "cell_type": "code",
   "execution_count": 95,
   "id": "167c4ef3",
   "metadata": {},
   "outputs": [
    {
     "name": "stderr",
     "output_type": "stream",
     "text": [
      "C:\\Users\\farhanhasan\\Anaconda3\\envs\\geo_env\\lib\\site-packages\\seaborn\\distributions.py:316: UserWarning: Dataset has 0 variance; skipping density estimate. Pass `warn_singular=False` to disable this warning.\n",
      "  warnings.warn(msg, UserWarning)\n"
     ]
    },
    {
     "data": {
      "text/plain": [
       "<seaborn.axisgrid.FacetGrid at 0x25c5b4222f0>"
      ]
     },
     "execution_count": 95,
     "metadata": {},
     "output_type": "execute_result"
    },
    {
     "data": {
      "image/png": "[encoded data removed]",
      "text/plain": [
       "<Figure size 360x360 with 1 Axes>"
      ]
     },
     "metadata": {},
     "output_type": "display_data"
    }
   ],
   "source": [
    "delta_ROAS = ROAS_M - ROAS_F\n",
    "\n",
    "alpha = 0.05\n",
    "\n",
    "sns.displot(data = delta_ROAS, kind = \"kde\")"
   ]
  },
  {
   "cell_type": "code",
   "execution_count": 103,
   "id": "a225d9b5",
   "metadata": {},
   "outputs": [
    {
     "data": {
      "text/plain": [
       "(349,)"
      ]
     },
     "execution_count": 103,
     "metadata": {},
     "output_type": "execute_result"
    }
   ],
   "source": [
    "ROAS_M.shape"
   ]
  },
  {
   "cell_type": "code",
   "execution_count": 104,
   "id": "1330041f",
   "metadata": {},
   "outputs": [
    {
     "data": {
      "text/plain": [
       "(276,)"
      ]
     },
     "execution_count": 104,
     "metadata": {},
     "output_type": "execute_result"
    }
   ],
   "source": [
    "ROAS_F.shape"
   ]
  },
  {
   "cell_type": "code",
   "execution_count": null,
   "id": "65e616fa",
   "metadata": {},
   "outputs": [],
   "source": []
  }
 ],
 "metadata": {
  "kernelspec": {
   "display_name": "geo_env",
   "language": "python",
   "name": "geo_env"
  },
  "language_info": {
   "codemirror_mode": {
    "name": "ipython",
    "version": 3
   },
   "file_extension": ".py",
   "mimetype": "text/x-python",
   "name": "python",
   "nbconvert_exporter": "python",
   "pygments_lexer": "ipython3",
   "version": "3.10.4"
  }
 },
 "nbformat": 4,
 "nbformat_minor": 5
}
